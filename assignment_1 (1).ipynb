{
 "cells": [
  {
   "cell_type": "code",
   "execution_count": null,
   "id": "5add3a22-2c62-4a40-9129-96daea51e08d",
   "metadata": {},
   "outputs": [],
   "source": [
    "#Name: Ankush Shukla,   Email: ankushshukla0612@gmail.com"
   ]
  },
  {
   "cell_type": "code",
   "execution_count": null,
   "id": "11154d9f-828b-48dd-a553-bcba2ee43272",
   "metadata": {},
   "outputs": [],
   "source": [
    "#  Question_1. In the below elements which of them are values or an expression? eg:- values can be\n",
    "#              integer or string and expressions will be mathematical operators.\n"
   ]
  },
  {
   "cell_type": "code",
   "execution_count": null,
   "id": "24e8fa1f-858f-4c2d-917c-fe20f676c2cd",
   "metadata": {},
   "outputs": [],
   "source": [
    "\"\"\"\n",
    "Answer: *, /, -, +  these are expressions.\n",
    "        \"hello', -87.8, 6 are values.\n",
    "        \n",
    "\"\"\"        "
   ]
  },
  {
   "cell_type": "code",
   "execution_count": null,
   "id": "b0d7a0bc-f015-4854-bfb2-1634761784fa",
   "metadata": {},
   "outputs": [],
   "source": []
  },
  {
   "cell_type": "code",
   "execution_count": null,
   "id": "f1aa3298-c793-40f9-b278-ab586bad16c7",
   "metadata": {},
   "outputs": [],
   "source": [
    "\n",
    "# Question_2. What is the difference between string and variable?\n"
   ]
  },
  {
   "cell_type": "code",
   "execution_count": null,
   "id": "4cfbf2dd-70a4-47c8-bd10-318f73f21a80",
   "metadata": {},
   "outputs": [],
   "source": [
    "\"\"\"\n",
    "Answer:  String- It is a data type which is used to store and manipulate textual data.\n",
    "         variable- It is a name provided to values stored in computer memory. It contains various types of data including strings.\n",
    "\"\"\""
   ]
  },
  {
   "cell_type": "code",
   "execution_count": null,
   "id": "f015bebb-6166-4b59-9a39-9fc27f8fe782",
   "metadata": {},
   "outputs": [],
   "source": []
  },
  {
   "cell_type": "code",
   "execution_count": null,
   "id": "63b24027-d815-411a-b371-2138de00fa77",
   "metadata": {},
   "outputs": [],
   "source": [
    "# Question_3  Describe three different data types."
   ]
  },
  {
   "cell_type": "code",
   "execution_count": null,
   "id": "d72d0046-dded-4279-bc36-ce4f2a7fbf41",
   "metadata": {},
   "outputs": [],
   "source": [
    "\"\"\"\n",
    "Answer:   1. Integer or int is a data type which contains positive and negative whole numbers.\n",
    "          \n",
    "          2. Floating point or Float is a data types which contains real numbers or numbers in decimal format.\n",
    "          \n",
    "          3. Boolean is a data type which contains two types of values namely True and False. True is represented by 1 and False is represented by 0.\n",
    "\n",
    "\n",
    "\"\"\""
   ]
  },
  {
   "cell_type": "code",
   "execution_count": null,
   "id": "5e5f23ad-02a0-4bcd-9a3d-c8a6f8156fce",
   "metadata": {},
   "outputs": [],
   "source": []
  },
  {
   "cell_type": "code",
   "execution_count": null,
   "id": "b1e852ae-b044-47c7-8313-1ba353da2e67",
   "metadata": {},
   "outputs": [],
   "source": [
    "# Question_4   What is an expression made up of? What do all expressions do?"
   ]
  },
  {
   "cell_type": "code",
   "execution_count": null,
   "id": "ef0143e1-96f2-44ac-bab3-efa91f220896",
   "metadata": {},
   "outputs": [],
   "source": [
    "\"\"\"\n",
    "An expression in programming is made up of one or more operators and operands. An expression represents a computation or a value that \n",
    "can be calculated. Here are the key components of an expression:\n",
    "\n",
    "1. Operators: Operators are symbols or special keywords that perform operations on one or more operands to produce a result. \n",
    "   Common operators include arithmetic operators. \n",
    "   \n",
    "\n",
    "2. Operands: Operands are the values or variables on which operators act. They can be constants, variables, or other expressions. \n",
    "\n",
    "\n",
    "3. Parentheses: Parentheses are used to group sub-expressions and specify the order of evaluation. \n",
    "   They help clarify the precedence of operators in complex expressions.\n",
    "\n",
    "\n",
    "\n",
    "\n",
    "\n",
    "\n",
    "\n",
    "Expressions in programming have various purposes and can do the following:\n",
    "\n",
    "\n",
    "\n",
    "1. Calculate Values: Expressions are used to compute and calculate values.\n",
    "\n",
    "2. Make Decisions: Expressions are often used in conditional statements (if-else) and loops to make decisions \n",
    "   based on the result of a comparison expression.\n",
    "\n",
    "3. Assign Values: Expressions can be used to assign values to variables. \n",
    "\n",
    "\n",
    "4. Manipulate Data: Expressions are used to manipulate data by performing various operations.\n",
    "\n",
    "\n",
    "\n",
    "\"\"\""
   ]
  },
  {
   "cell_type": "code",
   "execution_count": null,
   "id": "5ff85f3c-c78d-4614-abaf-a0806cc81285",
   "metadata": {},
   "outputs": [],
   "source": []
  },
  {
   "cell_type": "code",
   "execution_count": null,
   "id": "06e51dea-ce66-43fa-bcfe-8af9fedc5fb7",
   "metadata": {},
   "outputs": [],
   "source": [
    "#Question_5   This assignment statements, like spam = 10. What is the difference between an\n",
    "#             expression and a statement?"
   ]
  },
  {
   "cell_type": "code",
   "execution_count": null,
   "id": "d25597cf-ec56-49a9-a4ec-3a171bf76f39",
   "metadata": {},
   "outputs": [],
   "source": [
    "\"\"\"\n",
    "\n",
    "Answer:     Expression: An expression is a combination of values, variables, operators, and function calls that can be evaluated to produce a result.\n",
    "                        Expressions always have a value associated with them.\n",
    "                        They can be used as part of a larger statement or on their own.\n",
    "\n",
    "            Statement:  A statement is a complete line of code that performs an action. It often includes one or more expressions.\n",
    "                        Statements are used to control the flow of a program, define behavior, or perform operations.\n",
    "                        Unlike expressions, statements do not have a value associated with them.\n",
    "\n",
    "\n",
    "\"\"\""
   ]
  },
  {
   "cell_type": "code",
   "execution_count": null,
   "id": "b8865cc0-4cfc-445b-b30c-9313c44b8fad",
   "metadata": {},
   "outputs": [],
   "source": []
  },
  {
   "cell_type": "code",
   "execution_count": null,
   "id": "242dff84-96a3-4bf3-bb7b-759db3f208fa",
   "metadata": {},
   "outputs": [],
   "source": [
    "#   Question_6   After running the following code, what does the variable bacon contain?\n",
    "#   bacon = 22\n",
    "#   bacon + 1"
   ]
  },
  {
   "cell_type": "code",
   "execution_count": null,
   "id": "4a88d092-7bf0-4665-81ca-200c84845c6e",
   "metadata": {},
   "outputs": [],
   "source": [
    "\"\"\"\n",
    "Answer:   The variable bacon will contain int value 23.\n",
    "\"\"\""
   ]
  },
  {
   "cell_type": "code",
   "execution_count": null,
   "id": "843e7286-1dca-4fad-92f1-e53b68817fd4",
   "metadata": {},
   "outputs": [],
   "source": [
    "#   Question_7   What should the values of the following two terms be?\n",
    "#   'spam' + 'spamspam'\n",
    "#   'spam' * 3"
   ]
  },
  {
   "cell_type": "code",
   "execution_count": null,
   "id": "e08f906a-d5c2-4e2b-912e-d5b66f970094",
   "metadata": {},
   "outputs": [],
   "source": [
    "\"\"\"\n",
    "\n",
    "Answer:   Values of both the terms will be same. And it is 'spamspamspam' a string.\n",
    "\n",
    "\n",
    "\"\"\""
   ]
  },
  {
   "cell_type": "code",
   "execution_count": 1,
   "id": "8f558ded-c3c3-4d54-b5c7-0cb24cd2248b",
   "metadata": {},
   "outputs": [
    {
     "name": "stdout",
     "output_type": "stream",
     "text": [
      "spamspamspam\n"
     ]
    }
   ],
   "source": [
    "a= 'spam' + 'spamspam'\n",
    "print(a)"
   ]
  },
  {
   "cell_type": "code",
   "execution_count": 2,
   "id": "107e8d24-bdd7-4890-8071-b9961d02e26c",
   "metadata": {},
   "outputs": [
    {
     "name": "stdout",
     "output_type": "stream",
     "text": [
      "spamspamspam\n"
     ]
    }
   ],
   "source": [
    "b= 'spam' * 3\n",
    "print(b)"
   ]
  },
  {
   "cell_type": "code",
   "execution_count": null,
   "id": "5af40f87-7437-480d-9715-304b33e53f12",
   "metadata": {},
   "outputs": [],
   "source": []
  },
  {
   "cell_type": "code",
   "execution_count": null,
   "id": "83351a4e-dba8-4257-8764-6db84a08f661",
   "metadata": {},
   "outputs": [],
   "source": [
    "#Question_8   Why is eggs a valid variable name while 100 is invalid?"
   ]
  },
  {
   "cell_type": "code",
   "execution_count": null,
   "id": "51aaf67e-5038-4a53-a230-60bb28dddb68",
   "metadata": {},
   "outputs": [],
   "source": [
    "\"\"\"\n",
    "\n",
    "Answer:   Variable name should start with letter or underscore(_). It should not start with digit.\n",
    "        \n",
    "          Based on the above rules, eggs is a valid variable name while 100 is not.\n",
    "\"\"\"\n",
    "\n"
   ]
  },
  {
   "cell_type": "code",
   "execution_count": null,
   "id": "885d40ea-d88c-45c5-bb07-f36c13c628a9",
   "metadata": {},
   "outputs": [],
   "source": []
  },
  {
   "cell_type": "code",
   "execution_count": null,
   "id": "7d28d74f-7f4c-4fff-865f-a0e3e61032b4",
   "metadata": {},
   "outputs": [],
   "source": [
    "#  Question_9    What three functions can be used to get the integer, floating-point number, or string\n",
    "#                version of a value?"
   ]
  },
  {
   "cell_type": "code",
   "execution_count": null,
   "id": "1779623a-7dec-4ea9-a4b4-53c4d3ce63f1",
   "metadata": {},
   "outputs": [],
   "source": [
    "\"\"\"\n",
    "Answer:    Python has many inbuilt functions and some of them are int(), float() and str() which can be used to get the integer,\n",
    "           floating-point number, or string version of a value.\n",
    "\n",
    "\"\"\""
   ]
  },
  {
   "cell_type": "code",
   "execution_count": null,
   "id": "db34efa8-9785-4fdd-a645-d5ec87a1563c",
   "metadata": {},
   "outputs": [],
   "source": []
  },
  {
   "cell_type": "code",
   "execution_count": null,
   "id": "7cf4f199-705a-4db5-99b9-a0b61bf41f7b",
   "metadata": {},
   "outputs": [],
   "source": [
    "#   Question_10  Why does this expression cause an error? How can you fix it?\n",
    "#                'I have eaten' + 99 + \"burritos.\""
   ]
  },
  {
   "cell_type": "code",
   "execution_count": null,
   "id": "de2a1bce-bbfa-4744-93aa-f6125d0bf748",
   "metadata": {},
   "outputs": [],
   "source": [
    "\"\"\"\n",
    "Answer:  In the above given expression user is trying to concatenate three values. two of them are string and one is integer i.e; 99.\n",
    "         when we are executing above expression it causes error because we can not concatenate int value with string value.\n",
    "         \n",
    "         To fix this error we must change int value 99 to string value '99' by using single or double quotation mark.\n",
    "         see below.\n",
    "\n",
    "\n",
    "\"\"\""
   ]
  },
  {
   "cell_type": "code",
   "execution_count": 5,
   "id": "2f6feed5-f5e4-4613-b4b3-9e8f5504ad59",
   "metadata": {},
   "outputs": [
    {
     "name": "stdout",
     "output_type": "stream",
     "text": [
      "I have eaten 99 burritos.\n"
     ]
    }
   ],
   "source": [
    "a= 'I have eaten' + \" 99\" + \" burritos.\"\n",
    "\n",
    "print(a)\n"
   ]
  },
  {
   "cell_type": "code",
   "execution_count": null,
   "id": "14851adb-af40-478b-839b-155da7b4f7b3",
   "metadata": {},
   "outputs": [],
   "source": []
  },
  {
   "cell_type": "code",
   "execution_count": null,
   "id": "ccff07cc-df97-491f-b26a-425db41d549c",
   "metadata": {},
   "outputs": [],
   "source": []
  }
 ],
 "metadata": {
  "kernelspec": {
   "display_name": "Python 3 (ipykernel)",
   "language": "python",
   "name": "python3"
  },
  "language_info": {
   "codemirror_mode": {
    "name": "ipython",
    "version": 3
   },
   "file_extension": ".py",
   "mimetype": "text/x-python",
   "name": "python",
   "nbconvert_exporter": "python",
   "pygments_lexer": "ipython3",
   "version": "3.10.6"
  }
 },
 "nbformat": 4,
 "nbformat_minor": 5
}
